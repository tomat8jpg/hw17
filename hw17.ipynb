{
 "cells": [
  {
   "cell_type": "code",
   "execution_count": 1,
   "metadata": {},
   "outputs": [],
   "source": [
    "import pandas as pd\n",
    "import numpy as np\n",
    "from sklearn.svm import SVC\n",
    "from sklearn.metrics import confusion_matrix, plot_roc_curve, make_scorer, balanced_accuracy_score\n",
    "from sklearn.model_selection import RepeatedStratifiedKFold, train_test_split, GridSearchCV\n",
    "from sklearn.ensemble import RandomForestClassifier\n",
    "from IPython.display import Image\n",
    "import matplotlib.pyplot as plt\n",
    "from scipy.stats import ttest_ind\n"
   ]
  },
  {
   "cell_type": "code",
   "execution_count": 2,
   "metadata": {},
   "outputs": [
    {
     "data": {
      "text/html": [
       "<div>\n",
       "<style scoped>\n",
       "    .dataframe tbody tr th:only-of-type {\n",
       "        vertical-align: middle;\n",
       "    }\n",
       "\n",
       "    .dataframe tbody tr th {\n",
       "        vertical-align: top;\n",
       "    }\n",
       "\n",
       "    .dataframe thead th {\n",
       "        text-align: right;\n",
       "    }\n",
       "</style>\n",
       "<table border=\"1\" class=\"dataframe\">\n",
       "  <thead>\n",
       "    <tr style=\"text-align: right;\">\n",
       "      <th></th>\n",
       "      <th>UBE2T</th>\n",
       "      <th>BIRC5</th>\n",
       "      <th>NUF2</th>\n",
       "      <th>CDC6</th>\n",
       "      <th>CCNB1</th>\n",
       "      <th>TYMS</th>\n",
       "      <th>MYBL2</th>\n",
       "      <th>CEP55</th>\n",
       "      <th>MELK</th>\n",
       "      <th>NDC80</th>\n",
       "      <th>...</th>\n",
       "      <th>NAT1</th>\n",
       "      <th>FOXA1</th>\n",
       "      <th>BLVRA</th>\n",
       "      <th>MMP11</th>\n",
       "      <th>GPR160</th>\n",
       "      <th>FGFR4</th>\n",
       "      <th>GRB7</th>\n",
       "      <th>TMEM45B</th>\n",
       "      <th>ERBB2</th>\n",
       "      <th>Subtype</th>\n",
       "    </tr>\n",
       "  </thead>\n",
       "  <tbody>\n",
       "    <tr>\n",
       "      <th>TCGA-A1-A0SB-01A</th>\n",
       "      <td>2.507502</td>\n",
       "      <td>2.172270</td>\n",
       "      <td>0.952906</td>\n",
       "      <td>1.683162</td>\n",
       "      <td>3.108067</td>\n",
       "      <td>3.332448</td>\n",
       "      <td>2.982268</td>\n",
       "      <td>1.613604</td>\n",
       "      <td>1.641565</td>\n",
       "      <td>1.218495</td>\n",
       "      <td>...</td>\n",
       "      <td>0.926850</td>\n",
       "      <td>2.869065</td>\n",
       "      <td>3.896839</td>\n",
       "      <td>1.387963</td>\n",
       "      <td>1.141875</td>\n",
       "      <td>0.544443</td>\n",
       "      <td>2.942855</td>\n",
       "      <td>0.875017</td>\n",
       "      <td>5.014075</td>\n",
       "      <td>Normal-like</td>\n",
       "    </tr>\n",
       "    <tr>\n",
       "      <th>TCGA-A1-A0SD-01A</th>\n",
       "      <td>3.016158</td>\n",
       "      <td>2.514871</td>\n",
       "      <td>1.509129</td>\n",
       "      <td>1.354016</td>\n",
       "      <td>3.685035</td>\n",
       "      <td>2.125453</td>\n",
       "      <td>3.047474</td>\n",
       "      <td>2.333704</td>\n",
       "      <td>1.996853</td>\n",
       "      <td>1.171520</td>\n",
       "      <td>...</td>\n",
       "      <td>4.905805</td>\n",
       "      <td>6.677118</td>\n",
       "      <td>5.044878</td>\n",
       "      <td>5.631087</td>\n",
       "      <td>3.942169</td>\n",
       "      <td>3.404177</td>\n",
       "      <td>3.655783</td>\n",
       "      <td>2.757977</td>\n",
       "      <td>5.999041</td>\n",
       "      <td>Luminal A</td>\n",
       "    </tr>\n",
       "    <tr>\n",
       "      <th>TCGA-A1-A0SE-01A</th>\n",
       "      <td>4.626989</td>\n",
       "      <td>3.289047</td>\n",
       "      <td>2.102190</td>\n",
       "      <td>2.116975</td>\n",
       "      <td>4.525954</td>\n",
       "      <td>2.906470</td>\n",
       "      <td>3.798966</td>\n",
       "      <td>2.745027</td>\n",
       "      <td>2.451070</td>\n",
       "      <td>2.070499</td>\n",
       "      <td>...</td>\n",
       "      <td>6.053451</td>\n",
       "      <td>6.690114</td>\n",
       "      <td>5.843557</td>\n",
       "      <td>5.504526</td>\n",
       "      <td>3.881691</td>\n",
       "      <td>1.038253</td>\n",
       "      <td>3.156081</td>\n",
       "      <td>1.355837</td>\n",
       "      <td>5.585759</td>\n",
       "      <td>Luminal A</td>\n",
       "    </tr>\n",
       "    <tr>\n",
       "      <th>TCGA-A1-A0SF-01A</th>\n",
       "      <td>3.417782</td>\n",
       "      <td>2.262844</td>\n",
       "      <td>1.569301</td>\n",
       "      <td>1.800667</td>\n",
       "      <td>3.823694</td>\n",
       "      <td>2.843952</td>\n",
       "      <td>3.807282</td>\n",
       "      <td>2.141323</td>\n",
       "      <td>2.082400</td>\n",
       "      <td>1.693568</td>\n",
       "      <td>...</td>\n",
       "      <td>6.883599</td>\n",
       "      <td>6.280921</td>\n",
       "      <td>5.705410</td>\n",
       "      <td>3.511572</td>\n",
       "      <td>4.374803</td>\n",
       "      <td>2.299735</td>\n",
       "      <td>3.054917</td>\n",
       "      <td>1.315680</td>\n",
       "      <td>5.215699</td>\n",
       "      <td>Luminal A</td>\n",
       "    </tr>\n",
       "    <tr>\n",
       "      <th>TCGA-A1-A0SG-01A</th>\n",
       "      <td>2.948244</td>\n",
       "      <td>2.298689</td>\n",
       "      <td>1.116282</td>\n",
       "      <td>1.552142</td>\n",
       "      <td>3.582144</td>\n",
       "      <td>2.886328</td>\n",
       "      <td>2.697313</td>\n",
       "      <td>1.968233</td>\n",
       "      <td>1.662241</td>\n",
       "      <td>1.280947</td>\n",
       "      <td>...</td>\n",
       "      <td>1.814486</td>\n",
       "      <td>6.284076</td>\n",
       "      <td>4.622443</td>\n",
       "      <td>6.845350</td>\n",
       "      <td>3.381032</td>\n",
       "      <td>3.586285</td>\n",
       "      <td>2.845107</td>\n",
       "      <td>3.359571</td>\n",
       "      <td>5.786065</td>\n",
       "      <td>Luminal A</td>\n",
       "    </tr>\n",
       "    <tr>\n",
       "      <th>...</th>\n",
       "      <td>...</td>\n",
       "      <td>...</td>\n",
       "      <td>...</td>\n",
       "      <td>...</td>\n",
       "      <td>...</td>\n",
       "      <td>...</td>\n",
       "      <td>...</td>\n",
       "      <td>...</td>\n",
       "      <td>...</td>\n",
       "      <td>...</td>\n",
       "      <td>...</td>\n",
       "      <td>...</td>\n",
       "      <td>...</td>\n",
       "      <td>...</td>\n",
       "      <td>...</td>\n",
       "      <td>...</td>\n",
       "      <td>...</td>\n",
       "      <td>...</td>\n",
       "      <td>...</td>\n",
       "      <td>...</td>\n",
       "      <td>...</td>\n",
       "    </tr>\n",
       "    <tr>\n",
       "      <th>TCGA-BH-A0BV-11A</th>\n",
       "      <td>1.870352</td>\n",
       "      <td>1.072286</td>\n",
       "      <td>0.608802</td>\n",
       "      <td>0.902198</td>\n",
       "      <td>2.587268</td>\n",
       "      <td>2.266861</td>\n",
       "      <td>1.450288</td>\n",
       "      <td>0.952375</td>\n",
       "      <td>0.914605</td>\n",
       "      <td>0.726684</td>\n",
       "      <td>...</td>\n",
       "      <td>2.266702</td>\n",
       "      <td>4.919079</td>\n",
       "      <td>4.153488</td>\n",
       "      <td>0.861931</td>\n",
       "      <td>2.403286</td>\n",
       "      <td>0.401022</td>\n",
       "      <td>4.044734</td>\n",
       "      <td>1.569947</td>\n",
       "      <td>4.871977</td>\n",
       "      <td>Healthy</td>\n",
       "    </tr>\n",
       "    <tr>\n",
       "      <th>TCGA-BH-A0BC-11A</th>\n",
       "      <td>1.739019</td>\n",
       "      <td>1.219743</td>\n",
       "      <td>0.573760</td>\n",
       "      <td>0.935661</td>\n",
       "      <td>1.957932</td>\n",
       "      <td>2.211228</td>\n",
       "      <td>1.837159</td>\n",
       "      <td>1.142789</td>\n",
       "      <td>0.948133</td>\n",
       "      <td>0.433871</td>\n",
       "      <td>...</td>\n",
       "      <td>1.798099</td>\n",
       "      <td>4.237113</td>\n",
       "      <td>4.438927</td>\n",
       "      <td>0.786682</td>\n",
       "      <td>1.765614</td>\n",
       "      <td>0.761287</td>\n",
       "      <td>3.296281</td>\n",
       "      <td>1.124510</td>\n",
       "      <td>4.406197</td>\n",
       "      <td>Healthy</td>\n",
       "    </tr>\n",
       "    <tr>\n",
       "      <th>TCGA-BH-A0DD-11A</th>\n",
       "      <td>1.464052</td>\n",
       "      <td>0.597237</td>\n",
       "      <td>0.340499</td>\n",
       "      <td>1.037614</td>\n",
       "      <td>1.665574</td>\n",
       "      <td>1.312091</td>\n",
       "      <td>1.086920</td>\n",
       "      <td>0.623715</td>\n",
       "      <td>0.544445</td>\n",
       "      <td>0.429620</td>\n",
       "      <td>...</td>\n",
       "      <td>2.147100</td>\n",
       "      <td>1.172748</td>\n",
       "      <td>5.040978</td>\n",
       "      <td>0.415481</td>\n",
       "      <td>1.626146</td>\n",
       "      <td>0.113552</td>\n",
       "      <td>0.794801</td>\n",
       "      <td>0.177137</td>\n",
       "      <td>3.166627</td>\n",
       "      <td>Healthy</td>\n",
       "    </tr>\n",
       "    <tr>\n",
       "      <th>TCGA-BH-A0DH-11A</th>\n",
       "      <td>1.686862</td>\n",
       "      <td>1.206100</td>\n",
       "      <td>0.259961</td>\n",
       "      <td>0.704237</td>\n",
       "      <td>2.288728</td>\n",
       "      <td>1.789974</td>\n",
       "      <td>1.095518</td>\n",
       "      <td>0.541392</td>\n",
       "      <td>0.526630</td>\n",
       "      <td>0.471734</td>\n",
       "      <td>...</td>\n",
       "      <td>2.361668</td>\n",
       "      <td>4.795254</td>\n",
       "      <td>5.046676</td>\n",
       "      <td>1.342472</td>\n",
       "      <td>1.866943</td>\n",
       "      <td>0.619597</td>\n",
       "      <td>2.776416</td>\n",
       "      <td>1.925006</td>\n",
       "      <td>4.462839</td>\n",
       "      <td>Healthy</td>\n",
       "    </tr>\n",
       "    <tr>\n",
       "      <th>TCGA-BH-A0C0-11A</th>\n",
       "      <td>1.491155</td>\n",
       "      <td>0.422435</td>\n",
       "      <td>0.243862</td>\n",
       "      <td>0.544113</td>\n",
       "      <td>1.995766</td>\n",
       "      <td>1.335294</td>\n",
       "      <td>0.548986</td>\n",
       "      <td>0.267646</td>\n",
       "      <td>0.268340</td>\n",
       "      <td>0.408636</td>\n",
       "      <td>...</td>\n",
       "      <td>2.172031</td>\n",
       "      <td>5.350962</td>\n",
       "      <td>4.301563</td>\n",
       "      <td>0.485694</td>\n",
       "      <td>2.878511</td>\n",
       "      <td>2.385736</td>\n",
       "      <td>3.181648</td>\n",
       "      <td>2.173951</td>\n",
       "      <td>5.016147</td>\n",
       "      <td>Healthy</td>\n",
       "    </tr>\n",
       "  </tbody>\n",
       "</table>\n",
       "<p>915 rows × 51 columns</p>\n",
       "</div>"
      ],
      "text/plain": [
       "                     UBE2T     BIRC5      NUF2      CDC6     CCNB1      TYMS  \\\n",
       "TCGA-A1-A0SB-01A  2.507502  2.172270  0.952906  1.683162  3.108067  3.332448   \n",
       "TCGA-A1-A0SD-01A  3.016158  2.514871  1.509129  1.354016  3.685035  2.125453   \n",
       "TCGA-A1-A0SE-01A  4.626989  3.289047  2.102190  2.116975  4.525954  2.906470   \n",
       "TCGA-A1-A0SF-01A  3.417782  2.262844  1.569301  1.800667  3.823694  2.843952   \n",
       "TCGA-A1-A0SG-01A  2.948244  2.298689  1.116282  1.552142  3.582144  2.886328   \n",
       "...                    ...       ...       ...       ...       ...       ...   \n",
       "TCGA-BH-A0BV-11A  1.870352  1.072286  0.608802  0.902198  2.587268  2.266861   \n",
       "TCGA-BH-A0BC-11A  1.739019  1.219743  0.573760  0.935661  1.957932  2.211228   \n",
       "TCGA-BH-A0DD-11A  1.464052  0.597237  0.340499  1.037614  1.665574  1.312091   \n",
       "TCGA-BH-A0DH-11A  1.686862  1.206100  0.259961  0.704237  2.288728  1.789974   \n",
       "TCGA-BH-A0C0-11A  1.491155  0.422435  0.243862  0.544113  1.995766  1.335294   \n",
       "\n",
       "                     MYBL2     CEP55      MELK     NDC80  ...      NAT1  \\\n",
       "TCGA-A1-A0SB-01A  2.982268  1.613604  1.641565  1.218495  ...  0.926850   \n",
       "TCGA-A1-A0SD-01A  3.047474  2.333704  1.996853  1.171520  ...  4.905805   \n",
       "TCGA-A1-A0SE-01A  3.798966  2.745027  2.451070  2.070499  ...  6.053451   \n",
       "TCGA-A1-A0SF-01A  3.807282  2.141323  2.082400  1.693568  ...  6.883599   \n",
       "TCGA-A1-A0SG-01A  2.697313  1.968233  1.662241  1.280947  ...  1.814486   \n",
       "...                    ...       ...       ...       ...  ...       ...   \n",
       "TCGA-BH-A0BV-11A  1.450288  0.952375  0.914605  0.726684  ...  2.266702   \n",
       "TCGA-BH-A0BC-11A  1.837159  1.142789  0.948133  0.433871  ...  1.798099   \n",
       "TCGA-BH-A0DD-11A  1.086920  0.623715  0.544445  0.429620  ...  2.147100   \n",
       "TCGA-BH-A0DH-11A  1.095518  0.541392  0.526630  0.471734  ...  2.361668   \n",
       "TCGA-BH-A0C0-11A  0.548986  0.267646  0.268340  0.408636  ...  2.172031   \n",
       "\n",
       "                     FOXA1     BLVRA     MMP11    GPR160     FGFR4      GRB7  \\\n",
       "TCGA-A1-A0SB-01A  2.869065  3.896839  1.387963  1.141875  0.544443  2.942855   \n",
       "TCGA-A1-A0SD-01A  6.677118  5.044878  5.631087  3.942169  3.404177  3.655783   \n",
       "TCGA-A1-A0SE-01A  6.690114  5.843557  5.504526  3.881691  1.038253  3.156081   \n",
       "TCGA-A1-A0SF-01A  6.280921  5.705410  3.511572  4.374803  2.299735  3.054917   \n",
       "TCGA-A1-A0SG-01A  6.284076  4.622443  6.845350  3.381032  3.586285  2.845107   \n",
       "...                    ...       ...       ...       ...       ...       ...   \n",
       "TCGA-BH-A0BV-11A  4.919079  4.153488  0.861931  2.403286  0.401022  4.044734   \n",
       "TCGA-BH-A0BC-11A  4.237113  4.438927  0.786682  1.765614  0.761287  3.296281   \n",
       "TCGA-BH-A0DD-11A  1.172748  5.040978  0.415481  1.626146  0.113552  0.794801   \n",
       "TCGA-BH-A0DH-11A  4.795254  5.046676  1.342472  1.866943  0.619597  2.776416   \n",
       "TCGA-BH-A0C0-11A  5.350962  4.301563  0.485694  2.878511  2.385736  3.181648   \n",
       "\n",
       "                   TMEM45B     ERBB2      Subtype  \n",
       "TCGA-A1-A0SB-01A  0.875017  5.014075  Normal-like  \n",
       "TCGA-A1-A0SD-01A  2.757977  5.999041    Luminal A  \n",
       "TCGA-A1-A0SE-01A  1.355837  5.585759    Luminal A  \n",
       "TCGA-A1-A0SF-01A  1.315680  5.215699    Luminal A  \n",
       "TCGA-A1-A0SG-01A  3.359571  5.786065    Luminal A  \n",
       "...                    ...       ...          ...  \n",
       "TCGA-BH-A0BV-11A  1.569947  4.871977      Healthy  \n",
       "TCGA-BH-A0BC-11A  1.124510  4.406197      Healthy  \n",
       "TCGA-BH-A0DD-11A  0.177137  3.166627      Healthy  \n",
       "TCGA-BH-A0DH-11A  1.925006  4.462839      Healthy  \n",
       "TCGA-BH-A0C0-11A  2.173951  5.016147      Healthy  \n",
       "\n",
       "[915 rows x 51 columns]"
      ]
     },
     "execution_count": 2,
     "metadata": {},
     "output_type": "execute_result"
    }
   ],
   "source": [
    "df = pd.read_csv('https://raw.githubusercontent.com/s-a-nersisyan/HSE_bioinformatics_2021/master/seminar15/BRCA_pam50.tsv', index_col = 0, sep = '\\t')\n",
    "df"
   ]
  },
  {
   "cell_type": "code",
   "execution_count": 5,
   "metadata": {},
   "outputs": [
    {
     "name": "stdout",
     "output_type": "stream",
     "text": [
      "0.7416966685259369\n"
     ]
    }
   ],
   "source": [
    "X = df.iloc[:, :-1].to_numpy()\n",
    "y = df['Subtype'].to_numpy()\n",
    "\n",
    "X_train, X_test, y_train, y_test = train_test_split(X,y, stratify = y, random_state = 17, test_size = 0.2)\n",
    "model = RandomForestClassifier(n_estimators=100)\n",
    "model.fit(X_train, y_train)\n",
    "#посмотрим что он нам даст при стандартных параметрах\n",
    "y_pred = model.predict(X_test)\n",
    "print(balanced_accuracy_score(y_test, y_pred))"
   ]
  },
  {
   "cell_type": "code",
   "execution_count": 7,
   "metadata": {},
   "outputs": [
    {
     "data": {
      "text/plain": [
       "GridSearchCV(cv=RepeatedStratifiedKFold(n_repeats=10, n_splits=5, random_state=None),\n",
       "             estimator=RandomForestClassifier(), n_jobs=-1,\n",
       "             param_grid={'max_depth': [1, 3, 5, 7, 9],\n",
       "                         'n_estimators': [10, 30, 50, 70, 90, 110, 130, 150,\n",
       "                                          200]},\n",
       "             scoring=make_scorer(balanced_accuracy_score))"
      ]
     },
     "execution_count": 7,
     "metadata": {},
     "output_type": "execute_result"
    }
   ],
   "source": [
    "params = {'n_estimators': [10, 30, 50, 70, 90, 110, 130, 150, 200], 'max_depth': [1, 3, 5, 7, 9]}\n",
    "gscv = GridSearchCV(model, params, scoring = make_scorer(balanced_accuracy_score), n_jobs=-1, cv = RepeatedStratifiedKFold(n_repeats = 10))\n",
    "gscv.fit(X, y)\n",
    "#кошмар он долгий конечно"
   ]
  },
  {
   "cell_type": "code",
   "execution_count": 9,
   "metadata": {},
   "outputs": [
    {
     "name": "stdout",
     "output_type": "stream",
     "text": [
      "{'max_depth': 9, 'n_estimators': 90}\n",
      "0.9979919678714859\n"
     ]
    }
   ],
   "source": [
    "y_pred1 = gscv.predict(X_test)\n",
    "print(gscv.best_params_)\n",
    "print(balanced_accuracy_score(y_pred1, y_test))"
   ]
  },
  {
   "cell_type": "markdown",
   "metadata": {},
   "source": [
    "# 4. Построить две модели линейного SVM для классификациирецидива рака молочной железы (bc_data.pkl, bc_ann.pkl). Перваямодель должна быть построена с использованием всех генов,вторая — на 11 генах (файл genes_SVM.txt). Вывести качествамоделей (TPR, TNR, ROC AUC) на обучающей и тестовойвыборках. Интерпретировать результат."
   ]
  },
  {
   "cell_type": "code",
   "execution_count": 13,
   "metadata": {},
   "outputs": [],
   "source": [
    "df = pd.read_pickle(\"bc_data.pkl\")\n",
    "ann = pd.read_pickle(\"bc_ann.pkl\")\n",
    "genes = \"TRIP13;UBE2C;ZWINT;EPN3;KIF4A;ECHDC2;MTFR1;STARD13;IGFBP6;NUMA1;CCNL2\".split(\";\")\n",
    "dfg = df[genes]"
   ]
  },
  {
   "cell_type": "code",
   "execution_count": 14,
   "metadata": {},
   "outputs": [],
   "source": [
    "X_train = df.loc[ann.loc[ann[\"Dataset type\"] == \"Training\"].index].to_numpy()\n",
    "y_train = ann.loc[ann[\"Dataset type\"] == \"Training\", \"Class\"].to_numpy()\n",
    "\n",
    "X_test = df.loc[ann.loc[ann[\"Dataset type\"] == \"Validation\"].index].to_numpy()\n",
    "y_test = ann.loc[ann[\"Dataset type\"] == \"Validation\", \"Class\"].to_numpy()\n",
    "\n",
    "X_train_genes = dfg.loc[ann.loc[ann[\"Dataset type\"] == \"Training\"].index].to_numpy()\n",
    "X_test_genes = dfg.loc[ann.loc[ann[\"Dataset type\"] == \"Validation\"].index].to_numpy()"
   ]
  },
  {
   "cell_type": "code",
   "execution_count": 16,
   "metadata": {},
   "outputs": [
    {
     "name": "stdout",
     "output_type": "stream",
     "text": [
      "The balanced accuracy score is 0.6041666666666666\n"
     ]
    }
   ],
   "source": [
    "model = SVC(kernel=\"linear\")\n",
    "model.fit(X_train, y_train)\n",
    "\n",
    "y_pred = model.predict(X_test)\n",
    "print('The balanced accuracy score is', balanced_accuracy_score(y_test, y_pred))"
   ]
  },
  {
   "cell_type": "code",
   "execution_count": 17,
   "metadata": {},
   "outputs": [
    {
     "name": "stdout",
     "output_type": "stream",
     "text": [
      "[[54 18]\n",
      " [13 11]]\n",
      "[[54 18]\n",
      " [13 11]] 0.75 0.4583333333333333\n"
     ]
    }
   ],
   "source": [
    "M = confusion_matrix(y_test, y_pred)\n",
    "TPR = M[0, 0] / (M[0, 0] + M[0, 1])\n",
    "TNR = M[1, 1] / (M[1, 0] + M[1, 1])\n",
    "print(M, TPR, TNR)"
   ]
  },
  {
   "cell_type": "code",
   "execution_count": 18,
   "metadata": {},
   "outputs": [
    {
     "data": {
      "image/png": "[encoded data removed]",
      "text/plain": [
       "<Figure size 432x288 with 1 Axes>"
      ]
     },
     "metadata": {
      "needs_background": "light"
     },
     "output_type": "display_data"
    }
   ],
   "source": [
    "plot_roc_curve(model, X_test, y_test)\n",
    "plt.plot(1 - TPR, TNR, \"x\", c=\"#640a00\")\n",
    "plt.show()"
   ]
  },
  {
   "cell_type": "code",
   "execution_count": 19,
   "metadata": {},
   "outputs": [
    {
     "name": "stdout",
     "output_type": "stream",
     "text": [
      "The balanced accuracy score is 0.7291666666666667\n"
     ]
    }
   ],
   "source": [
    "model = SVC(kernel=\"linear\")\n",
    "model.fit(X_train_genes, y_train)\n",
    "\n",
    "y_pred = model.predict(X_test_genes)\n",
    "print('The balanced accuracy score is', balanced_accuracy_score(y_test, y_pred))"
   ]
  },
  {
   "cell_type": "code",
   "execution_count": 22,
   "metadata": {},
   "outputs": [
    {
     "name": "stdout",
     "output_type": "stream",
     "text": [
      "[[54 18]\n",
      " [ 7 17]] 0.75 0.7083333333333334\n"
     ]
    }
   ],
   "source": [
    "M = confusion_matrix(y_test, y_pred)\n",
    "TPR = M[0, 0] / (M[0, 0] + M[0, 1])\n",
    "TNR = M[1, 1] / (M[1, 0] + M[1, 1])\n",
    "print(M, TPR, TNR)"
   ]
  },
  {
   "cell_type": "code",
   "execution_count": 21,
   "metadata": {},
   "outputs": [
    {
     "data": {
      "image/png": "[encoded data removed]",
      "text/plain": [
       "<Figure size 432x288 with 1 Axes>"
      ]
     },
     "metadata": {
      "needs_background": "light"
     },
     "output_type": "display_data"
    }
   ],
   "source": [
    "plot_roc_curve(model, X_test_genes, y_test)\n",
    "plt.plot(1 - TPR, TNR, \"x\", c=\"#640a00\")\n",
    "plt.show()"
   ]
  },
  {
   "cell_type": "markdown",
   "metadata": {},
   "source": [
    "# 5. Определить гены, средняя экспрессия которых статистическизначимо различается между обучающей и тестовой выборками(bc_data.pkl, bc_ann.pkl, использовать𝑡-критерий Стьюдента).Какова доля этих генов среди всех?"
   ]
  },
  {
   "cell_type": "code",
   "execution_count": 24,
   "metadata": {},
   "outputs": [],
   "source": [
    "train = df.loc[ann.loc[ann[\"Dataset type\"] == \"Training\"].index]\n",
    "validation = df.loc[ann.loc[ann[\"Dataset type\"] == \"Validation\"].index]"
   ]
  },
  {
   "cell_type": "code",
   "execution_count": 28,
   "metadata": {},
   "outputs": [
    {
     "name": "stdout",
     "output_type": "stream",
     "text": [
      "4661\n",
      "0.6004895645452203\n"
     ]
    }
   ],
   "source": [
    "ttest_genes = []\n",
    "\n",
    "for i in df.columns:\n",
    "    if ttest_ind(train[i], validation[i])[1] < 0.05:\n",
    "        ttest_genes.append(gene)\n",
    "        \n",
    "print(len(ttest_genes))\n",
    "print(len(ttest_genes)/len(df.columns))"
   ]
  },
  {
   "cell_type": "code",
   "execution_count": null,
   "metadata": {},
   "outputs": [],
   "source": []
  }
 ],
 "metadata": {
  "kernelspec": {
   "display_name": "Python 3",
   "language": "python",
   "name": "python3"
  },
  "language_info": {
   "codemirror_mode": {
    "name": "ipython",
    "version": 3
   },
   "file_extension": ".py",
   "mimetype": "text/x-python",
   "name": "python",
   "nbconvert_exporter": "python",
   "pygments_lexer": "ipython3",
   "version": "3.8.5"
  }
 },
 "nbformat": 4,
 "nbformat_minor": 4
}
